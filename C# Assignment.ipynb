{
 "cells": [
  {
   "cell_type": "markdown",
   "id": "0627455d",
   "metadata": {},
   "source": [
    "Question 1 c#: "
   ]
  },
  {
   "cell_type": "markdown",
   "id": "54d6b6f2",
   "metadata": {},
   "source": [
    "5=int\n",
    "\n",
    "5.0=double\n",
    "\n",
    "5>1=bool\n",
    "\n",
    "'5'=char\n",
    "\n",
    "5*2=int\n",
    "\n",
    "'5'*2=int\n",
    "\n",
    "'5' +'2'= int\n",
    "\n",
    "5/2= int\n",
    "\n",
    "5%2=int\n",
    "\n",
    "{5,2,1}=array\n",
    "\n",
    "5 ==3 = bool\n",
    "\n",
    "pi(the number) = double"
   ]
  },
  {
   "cell_type": "markdown",
   "id": "e9a0ab12",
   "metadata": {},
   "source": [
    "Question 2 c#: "
   ]
  },
  {
   "cell_type": "code",
   "execution_count": 1,
   "id": "bbb07400",
   "metadata": {},
   "outputs": [
    {
     "name": "stdout",
     "output_type": "stream",
     "text": [
      "Supercalifragilisticexpialidocious contains ice\n",
      "String Bababadalgharaghtakamminarronnkonn is longest\n",
      "First Composer : Bartok\n",
      "Last Composer : Buxtehude\n"
     ]
    }
   ],
   "source": [
    "string Word = \"Supercalifragilisticexpialidocious\";\n",
    "int lenght = Word.Length;\n",
    "\n",
    "for(int i=0;i<lenght-2;i++)\n",
    "{\n",
    "    string subStr = Word.Substring(i, 3);\n",
    "    if(subStr == \"ice\")\n",
    "    {\n",
    "        Console.WriteLine($\"{Word} contains ice\");\n",
    "        break;\n",
    "    }\n",
    "}\n",
    "\n",
    "string a = \"Supercalifragilisticexpialidocious\";\n",
    "string b= \"honorificabilitudinitatibus\";\n",
    "string c = \"Bababadalgharaghtakamminarronnkonn\";\n",
    "int len1 = a.Length;\n",
    "int len2 = b.Length;\n",
    "int len3 = c.Length;\n",
    "if(lenght>len2)\n",
    "{\n",
    "    if(len1>len3)\n",
    "    {\n",
    "        Console.WriteLine($\"String {a} is longest\");\n",
    "    }\n",
    "    else\n",
    "    {\n",
    "        Console.WriteLine($\"String {c} is longest\");\n",
    "    }\n",
    "}\n",
    "else\n",
    "{\n",
    "    if(len2>len3)\n",
    "    {\n",
    "        Console.WriteLine($\"String {b} is longest\");\n",
    "    }\n",
    "    else\n",
    "    {\n",
    "        Console.WriteLine($\"String {c} is longest\");\n",
    "    }\n",
    "}\n",
    "\n",
    "\n",
    "SortedSet<string> set = new SortedSet<string>();\n",
    "set.Add(\"Berlioz\");\n",
    "set.Add(\"Borodin\");\n",
    "set.Add(\"Brian\");\n",
    "set.Add(\"Bartok\");\n",
    "set.Add(\"Bellini\");\n",
    "set.Add(\"Buxtehude\");\n",
    "set.Add(\"Bernstein\");\n",
    "\n",
    "Console.WriteLine($\"First Composer : {set.First()}\");\n",
    "Console.WriteLine($\"Last Composer : {set.Last()}\");"
   ]
  },
  {
   "cell_type": "markdown",
   "id": "5ea28553",
   "metadata": {},
   "source": [
    "Question 3: "
   ]
  },
  {
   "cell_type": "code",
   "execution_count": 2,
   "id": "865be3c5",
   "metadata": {},
   "outputs": [
    {
     "name": "stdout",
     "output_type": "stream",
     "text": [
      "1.7320508075688772\r\n"
     ]
    }
   ],
   "source": [
    "double triangeArea(int a, int b, int c)\n",
    "{\n",
    "    double s = (a + b + c) / 2;\n",
    "    double area = Math.Sqrt(s * (s - a) * (s - b) * (s - c));\n",
    "    return area;\n",
    "}\n",
    "Console.WriteLine(triangeArea(2, 2, 2));"
   ]
  },
  {
   "cell_type": "markdown",
   "id": "8630fd8a",
   "metadata": {},
   "source": [
    "Question 4:"
   ]
  },
  {
   "cell_type": "code",
   "execution_count": 3,
   "id": "6d14546a",
   "metadata": {},
   "outputs": [
    {
     "name": "stdout",
     "output_type": "stream",
     "text": [
      "Enter the number\r\n"
     ]
    },
    {
     "ename": "Unhandled Exception",
     "evalue": "Unable to cast object of type 'Microsoft.DotNet.Interactive.Rendering.PocketView' to type 'System.IConvertible'.",
     "output_type": "error",
     "traceback": [
      "Unhandled Exception",
      "Unable to cast object of type 'Microsoft.DotNet.Interactive.Rendering.PocketView' to type 'System.IConvertible'.",
      "   at System.Convert.ToInt32(Object value)",
      "   at CallSite.Target(Closure , CallSite , Type , Object )",
      "   at System.Dynamic.UpdateDelegates.UpdateAndExecute2[T0,T1,TRet](CallSite site, T0 arg0, T1 arg1)",
      "   at Submission#4.<<Initialize>>d__0.MoveNext()",
      "--- End of stack trace from previous location where exception was thrown ---",
      "   at Microsoft.CodeAnalysis.Scripting.ScriptExecutionState.RunSubmissionsAsync[TResult](ImmutableArray`1 precedingExecutors, Func`2 currentExecutor, StrongBox`1 exceptionHolderOpt, Func`2 catchExceptionOpt, CancellationToken cancellationToken)"
     ]
    }
   ],
   "source": [
    "Console.WriteLine(\"Enter the number\");\n",
    "int x = Convert.ToInt32(input(Console.ReadLine())); \n",
    "\n",
    "int[] arr = new int[x];\n",
    "\n",
    "int i1=0, i2=0; \n",
    "\n",
    "for(int i=0; i<x; i++)\n",
    "{\n",
    "    Console.WriteLine($\"element {i} :\");\n",
    "    arr[i] = Convert.ToInt32(input(Console.ReadLine()));\n",
    "    if (arr[i] % 2 == 0)    i1++;     \n",
    "    else i2++;                         }\n",
    "int[] even = new int[i1];\n",
    "int[] odd = new int[i2]; \n",
    "i1=0;\n",
    "i2=0;\n",
    "foreach (int element in arr)\n",
    "{\n",
    "    if (element % 2 == 0)\n",
    "    {\n",
    "        even[i1] = element;\n",
    "        i1++;\n",
    "    }\n",
    "    else\n",
    "    {\n",
    "        odd[i2] = element;\n",
    "        i2++;\n",
    "    }\n",
    "}\n",
    "\n",
    "Console.WriteLine(\"\\nThe Even Elements are: \");\n",
    "foreach (int element in even)  Console.WriteLine(element);\n",
    "\n",
    "Console.WriteLine(\"\\nThe Odd Elements are: \");\n",
    "foreach (int element in odd)   Console.WriteLine(element);"
   ]
  },
  {
   "cell_type": "markdown",
   "id": "5d630a5f",
   "metadata": {},
   "source": [
    "Question 5: "
   ]
  },
  {
   "cell_type": "code",
   "execution_count": 4,
   "id": "08678fbf",
   "metadata": {},
   "outputs": [
    {
     "name": "stdout",
     "output_type": "stream",
     "text": [
      "True\n",
      "False\n",
      "No\n"
     ]
    }
   ],
   "source": [
    "bool inside(double x, double y, double x1, double y1, double x2, double y2)\n",
    "{\n",
    "    if((x>x1 && x<x2) && (y>y1 && y<y2))\n",
    "    {\n",
    "        return true;\n",
    "    }\n",
    "    else\n",
    "    {\n",
    "        return false;\n",
    "    }\n",
    "}\n",
    "\n",
    "Console.WriteLine(inside(1, 1, 0, 0, 2, 3));\n",
    "\n",
    "Console.WriteLine(inside(-1, -1, 0, 0, 2, 3));\n",
    "\n",
    "if(inside(1,1,0.3,0.5,1.1,0.7) && inside(1, 1, 0.5, 0.2, 1.1, 2))\n",
    "{\n",
    "    Console.WriteLine(\"Yes\");\n",
    "}\n",
    "else { Console.WriteLine(\"No\"); }"
   ]
  },
  {
   "cell_type": "code",
   "execution_count": null,
   "id": "1a327f40",
   "metadata": {},
   "outputs": [],
   "source": []
  }
 ],
 "metadata": {
  "kernelspec": {
   "display_name": ".NET (C#)",
   "language": "C#",
   "name": ".net-csharp"
  },
  "language_info": {
   "file_extension": ".cs",
   "mimetype": "text/x-csharp",
   "name": "C#",
   "pygments_lexer": "csharp",
   "version": "8.0"
  }
 },
 "nbformat": 4,
 "nbformat_minor": 5
}
